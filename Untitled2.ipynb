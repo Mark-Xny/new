{
 "cells": [
  {
   "cell_type": "code",
   "execution_count": 2,
   "metadata": {},
   "outputs": [
    {
     "name": "stdout",
     "output_type": "stream",
     "text": [
      "请输入：6\n",
      "偶数\n"
     ]
    }
   ],
   "source": [
    "n = input(\"请输入：\")\n",
    "n = int(n)\n",
    "if n%2 == 0:\n",
    "    print(\"偶数\")\n",
    "else:\n",
    "    print(\"奇数\")\n",
    "          "
   ]
  },
  {
   "cell_type": "code",
   "execution_count": 5,
   "metadata": {},
   "outputs": [
    {
     "name": "stdout",
     "output_type": "stream",
     "text": [
      "请输入一个整数：0\n",
      "0\n"
     ]
    }
   ],
   "source": [
    "n = input(\"请输入一个整数：\")\n",
    "n = int(n)\n",
    "if n<0:\n",
    "    print(-n)\n",
    "else:\n",
    "    print(n)"
   ]
  },
  {
   "cell_type": "code",
   "execution_count": 10,
   "metadata": {},
   "outputs": [
    {
     "name": "stdout",
     "output_type": "stream",
     "text": [
      "请输入第一个整数：3\n",
      "请输入第二个整数：3\n",
      "一样大\n"
     ]
    }
   ],
   "source": [
    "a = input(\"请输入第一个整数：\")\n",
    "b = input(\"请输入第二个整数：\")\n",
    "a = int(a)\n",
    "b = int(b)\n",
    "if a<b:\n",
    "    print('最大值为：',b)\n",
    "elif b<a:\n",
    "    print('最大值为：',a)\n",
    "else:\n",
    "    print('一样大')"
   ]
  },
  {
   "cell_type": "code",
   "execution_count": 11,
   "metadata": {},
   "outputs": [
    {
     "name": "stdout",
     "output_type": "stream",
     "text": [
      "a=4\n",
      "4.0\n"
     ]
    }
   ],
   "source": [
    "a= input('a=')\n",
    "a= float(a)\n",
    "if a>=0:\n",
    "    print(a)\n",
    "else:\n",
    "    print(-a)"
   ]
  },
  {
   "cell_type": "code",
   "execution_count": 15,
   "metadata": {},
   "outputs": [
    {
     "name": "stdout",
     "output_type": "stream",
     "text": [
      "请输入学生成绩：89\n",
      "B\n"
     ]
    }
   ],
   "source": [
    "m = input(\"请输入学生成绩：\")\n",
    "m = float(m)\n",
    "if m<0 or m>100:\n",
    "    print('输入错误')\n",
    "elif m>=90:\n",
    "    print('A')\n",
    "elif m>=80:\n",
    "    print('B')\n",
    "elif m>=70:\n",
    "    print('C')\n",
    "elif m>=60:\n",
    "    print('D')\n",
    "else:\n",
    "    print('E')"
   ]
  },
  {
   "cell_type": "code",
   "execution_count": 17,
   "metadata": {},
   "outputs": [
    {
     "name": "stdout",
     "output_type": "stream",
     "text": [
      "请输入0-6的整数：4\n",
      "Thursday\n"
     ]
    }
   ],
   "source": [
    "a = input('请输入0-6的整数：')\n",
    "a = int(a)\n",
    "if a==0:\n",
    "    d='Sunday'\n",
    "elif a==1:\n",
    "    d='Monday'\n",
    "elif a==2:\n",
    "    d='Tuesday'\n",
    "elif a==3:\n",
    "    d='Wednesday'\n",
    "elif a==4:\n",
    "    d='Thursday'\n",
    "elif a==5:\n",
    "    d='Friday'\n",
    "elif a==6:\n",
    "    d='Saturday'\n",
    "else:\n",
    "    d='Unkonw'\n",
    "print(d)\n"
   ]
  },
  {
   "cell_type": "code",
   "execution_count": 25,
   "metadata": {},
   "outputs": [
    {
     "name": "stdout",
     "output_type": "stream",
     "text": [
      "n=4\n",
      "10\n"
     ]
    }
   ],
   "source": [
    "n = input(\"n=\")\n",
    "n = int(n)\n",
    "i = 0\n",
    "m = 1\n",
    "while m<=n:\n",
    "    i=i+m\n",
    "    m=m+1\n",
    "print(i)"
   ]
  },
  {
   "cell_type": "code",
   "execution_count": 24,
   "metadata": {},
   "outputs": [
    {
     "name": "stdout",
     "output_type": "stream",
     "text": [
      "4\n",
      "10\n"
     ]
    }
   ],
   "source": [
    "n = input()\n",
    "n = int(n)\n",
    "s=0\n",
    "m=1\n",
    "while m<=n:\n",
    "    s=s+m\n",
    "    m=m+1\n",
    "print(s)"
   ]
  },
  {
   "cell_type": "code",
   "execution_count": 31,
   "metadata": {
    "scrolled": false
   },
   "outputs": [
    {
     "name": "stdout",
     "output_type": "stream",
     "text": [
      "第1个成绩100\n",
      "第2个成绩100\n",
      "第3个成绩100\n",
      "第4个成绩100\n",
      "第5个成绩100\n",
      "第6个成绩100\n",
      "第7个成绩100\n",
      "第8个成绩100\n",
      "第9个成绩100\n",
      "第10个成绩100\n",
      "平均成绩： 100.0\n"
     ]
    }
   ],
   "source": [
    "s=0\n",
    "i=0\n",
    "while i<10:\n",
    "    m = input(\"第\"+str(i+1)+\"个成绩\")\n",
    "    m = float(m)\n",
    "    s = s+m\n",
    "    i = i+1\n",
    "print(\"平均成绩：\",float(s/10))"
   ]
  },
  {
   "cell_type": "code",
   "execution_count": 32,
   "metadata": {},
   "outputs": [
    {
     "name": "stdout",
     "output_type": "stream",
     "text": [
      "5050\n"
     ]
    }
   ],
   "source": [
    "s = 0\n",
    "for i in range(101):\n",
    "    s = s + i\n",
    "print(s)"
   ]
  },
  {
   "cell_type": "code",
   "execution_count": 1,
   "metadata": {},
   "outputs": [
    {
     "name": "stdout",
     "output_type": "stream",
     "text": [
      "你有多少钱：20\n",
      "这次喝掉了10瓶啤酒，总结10瓶啤酒\n",
      "0瓶啤酒，10个盖子，10个瓶子\n",
      "10个瓶子换5瓶啤酒\n",
      "8个盖子换2瓶啤酒\n",
      "7瓶啤酒，2个盖子，0个瓶子\n",
      "********************\n",
      "这次喝掉了7瓶啤酒，总结17瓶啤酒\n",
      "0瓶啤酒，9个盖子，7个瓶子\n",
      "6个瓶子换3瓶啤酒\n",
      "8个盖子换2瓶啤酒\n",
      "5瓶啤酒，1个盖子，1个瓶子\n",
      "********************\n",
      "这次喝掉了5瓶啤酒，总结22瓶啤酒\n",
      "0瓶啤酒，6个盖子，6个瓶子\n",
      "6个瓶子换3瓶啤酒\n",
      "4个盖子换1瓶啤酒\n",
      "4瓶啤酒，2个盖子，0个瓶子\n",
      "********************\n",
      "这次喝掉了4瓶啤酒，总结26瓶啤酒\n",
      "0瓶啤酒，6个盖子，4个瓶子\n",
      "4个瓶子换2瓶啤酒\n",
      "4个盖子换1瓶啤酒\n",
      "3瓶啤酒，2个盖子，0个瓶子\n",
      "********************\n",
      "这次喝掉了3瓶啤酒，总结29瓶啤酒\n",
      "0瓶啤酒，5个盖子，3个瓶子\n",
      "2个瓶子换1瓶啤酒\n",
      "4个盖子换1瓶啤酒\n",
      "2瓶啤酒，1个盖子，1个瓶子\n",
      "********************\n",
      "这次喝掉了2瓶啤酒，总结31瓶啤酒\n",
      "0瓶啤酒，3个盖子，3个瓶子\n",
      "2个瓶子换1瓶啤酒\n",
      "1瓶啤酒，3个盖子，1个瓶子\n",
      "********************\n",
      "这次喝掉了1瓶啤酒，总结32瓶啤酒\n",
      "0瓶啤酒，4个盖子，2个瓶子\n",
      "2个瓶子换1瓶啤酒\n",
      "4个盖子换1瓶啤酒\n",
      "2瓶啤酒，0个盖子，0个瓶子\n",
      "********************\n",
      "这次喝掉了2瓶啤酒，总结34瓶啤酒\n",
      "0瓶啤酒，2个盖子，2个瓶子\n",
      "2个瓶子换1瓶啤酒\n",
      "1瓶啤酒，2个盖子，0个瓶子\n",
      "********************\n",
      "这次喝掉了1瓶啤酒，总结35瓶啤酒\n",
      "0瓶啤酒，3个盖子，1个瓶子\n",
      "0瓶啤酒，3个盖子，1个瓶子\n",
      "********************\n",
      "总计喝掉35瓶啤酒，剩下3个盖子和1个瓶子\n"
     ]
    }
   ],
   "source": [
    "m = input('你有多少钱：')\n",
    "m = int(m)\n",
    "a = m//2\n",
    "p = 0\n",
    "g = 0\n",
    "i = 0\n",
    "\n",
    "while a>0:\n",
    "    p = p+a\n",
    "    g = g+a\n",
    "    i = i+a\n",
    "    print(\"这次喝掉了%d瓶啤酒，总结%d瓶啤酒\"%(a,i))\n",
    "    a = 0\n",
    "    print(\"%d瓶啤酒，%d个盖子，%d个瓶子\"%(a,g,p))\n",
    "    if p >= 2:\n",
    "        print(\"%d个瓶子换%d瓶啤酒\"%(p - p%2,p//2))\n",
    "        a = a + p//2\n",
    "        p = p%2\n",
    "    if g >= 4:\n",
    "        print(\"%d个盖子换%d瓶啤酒\"%(g - g%4,g//4))\n",
    "        a = a + g//4\n",
    "        g = g % 4\n",
    "    print(\"%d瓶啤酒，%d个盖子，%d个瓶子\"%(a,g,p))\n",
    "    print(\"*\"*20)\n",
    "print(\"总计喝掉%d瓶啤酒，剩下%d个盖子和%d个瓶子\"%(i,g,p))\n",
    "\n",
    "    \n",
    "    "
   ]
  },
  {
   "cell_type": "code",
   "execution_count": null,
   "metadata": {},
   "outputs": [],
   "source": []
  },
  {
   "cell_type": "code",
   "execution_count": null,
   "metadata": {},
   "outputs": [],
   "source": []
  }
 ],
 "metadata": {
  "kernelspec": {
   "display_name": "Python 3",
   "language": "python",
   "name": "python3"
  },
  "language_info": {
   "codemirror_mode": {
    "name": "ipython",
    "version": 3
   },
   "file_extension": ".py",
   "mimetype": "text/x-python",
   "name": "python",
   "nbconvert_exporter": "python",
   "pygments_lexer": "ipython3",
   "version": "3.7.1"
  }
 },
 "nbformat": 4,
 "nbformat_minor": 2
}
